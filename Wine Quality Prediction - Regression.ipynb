{
 "cells": [
  {
   "cell_type": "code",
   "execution_count": 125,
   "metadata": {
    "collapsed": false
   },
   "outputs": [],
   "source": [
    "import pandas as pd \n",
    "from pandas.tools.plotting import scatter_matrix\n",
    "import matplotlib\n",
    "import numpy as np\n",
    "from sklearn import preprocessing\n",
    "from sklearn import linear_model, tree, svm\n",
    "from sklearn.model_selection import train_test_split\n",
    "from sklearn.metrics import mean_squared_error, mean_absolute_error"
   ]
  },
  {
   "cell_type": "markdown",
   "metadata": {},
   "source": [
    "<h2>Load source data</h2>"
   ]
  },
  {
   "cell_type": "code",
   "execution_count": 126,
   "metadata": {
    "collapsed": false
   },
   "outputs": [
    {
     "name": "stdout",
     "output_type": "stream",
     "text": [
      "Duplicate data count: 240\n"
     ]
    }
   ],
   "source": [
    "dataset_url = 'http://mlr.cs.umass.edu/ml/machine-learning-databases/wine-quality/winequality-red.csv'\n",
    "data = pd.read_csv(dataset_url, sep=';')\n",
    "\n",
    "duplicate_count = str(np.sum(np.array(data.duplicated())))\n",
    "print(\"Duplicate data count: \" + duplicate_count)\n",
    "\n",
    "# Dropping duplicates makes accuracy worse\n",
    "# data = data.drop_duplicates()\n",
    "# duplicate_count = str(np.sum(np.array(data.duplicated())))\n",
    "# print(\"Duplicate data count: \" + duplicate_count)"
   ]
  },
  {
   "cell_type": "code",
   "execution_count": 127,
   "metadata": {
    "collapsed": false
   },
   "outputs": [
    {
     "name": "stdout",
     "output_type": "stream",
     "text": [
      "X shape: (1599, 11)\n",
      "y shape: (1599,)\n"
     ]
    }
   ],
   "source": [
    "X = data.drop('quality', axis=1)\n",
    "y = data.quality\n",
    "print('X shape: ' + str(X.shape))\n",
    "print('y shape: ' + str(y.shape))\n"
   ]
  },
  {
   "cell_type": "markdown",
   "metadata": {},
   "source": [
    "<h2>Train / test split</h2>"
   ]
  },
  {
   "cell_type": "code",
   "execution_count": 128,
   "metadata": {
    "collapsed": false
   },
   "outputs": [
    {
     "name": "stdout",
     "output_type": "stream",
     "text": [
      "X train shape: (1279, 11)\n",
      "X test shape: (320, 11)\n"
     ]
    }
   ],
   "source": [
    "X_train, X_test, y_train, y_test = train_test_split(X, y, test_size=0.2)\n",
    "print('X train shape: ' + str(X_train.shape))\n",
    "print('X test shape: ' + str(X_test.shape))"
   ]
  },
  {
   "cell_type": "code",
   "execution_count": 129,
   "metadata": {
    "collapsed": false
   },
   "outputs": [
    {
     "data": {
      "text/html": [
       "<div>\n",
       "<table border=\"1\" class=\"dataframe\">\n",
       "  <thead>\n",
       "    <tr style=\"text-align: right;\">\n",
       "      <th></th>\n",
       "      <th>fixed acidity</th>\n",
       "      <th>volatile acidity</th>\n",
       "      <th>citric acid</th>\n",
       "      <th>residual sugar</th>\n",
       "      <th>chlorides</th>\n",
       "      <th>free sulfur dioxide</th>\n",
       "      <th>total sulfur dioxide</th>\n",
       "      <th>density</th>\n",
       "      <th>pH</th>\n",
       "      <th>sulphates</th>\n",
       "      <th>alcohol</th>\n",
       "    </tr>\n",
       "  </thead>\n",
       "  <tbody>\n",
       "    <tr>\n",
       "      <th>638</th>\n",
       "      <td>7.7</td>\n",
       "      <td>0.915</td>\n",
       "      <td>0.12</td>\n",
       "      <td>2.2</td>\n",
       "      <td>0.143</td>\n",
       "      <td>7.0</td>\n",
       "      <td>23.0</td>\n",
       "      <td>0.99640</td>\n",
       "      <td>3.35</td>\n",
       "      <td>0.65</td>\n",
       "      <td>10.2</td>\n",
       "    </tr>\n",
       "    <tr>\n",
       "      <th>630</th>\n",
       "      <td>8.7</td>\n",
       "      <td>0.540</td>\n",
       "      <td>0.26</td>\n",
       "      <td>2.5</td>\n",
       "      <td>0.097</td>\n",
       "      <td>7.0</td>\n",
       "      <td>31.0</td>\n",
       "      <td>0.99760</td>\n",
       "      <td>3.27</td>\n",
       "      <td>0.60</td>\n",
       "      <td>9.3</td>\n",
       "    </tr>\n",
       "    <tr>\n",
       "      <th>764</th>\n",
       "      <td>9.1</td>\n",
       "      <td>0.680</td>\n",
       "      <td>0.11</td>\n",
       "      <td>2.8</td>\n",
       "      <td>0.093</td>\n",
       "      <td>11.0</td>\n",
       "      <td>44.0</td>\n",
       "      <td>0.99888</td>\n",
       "      <td>3.31</td>\n",
       "      <td>0.55</td>\n",
       "      <td>9.5</td>\n",
       "    </tr>\n",
       "    <tr>\n",
       "      <th>1068</th>\n",
       "      <td>11.1</td>\n",
       "      <td>0.310</td>\n",
       "      <td>0.53</td>\n",
       "      <td>2.2</td>\n",
       "      <td>0.060</td>\n",
       "      <td>3.0</td>\n",
       "      <td>10.0</td>\n",
       "      <td>0.99572</td>\n",
       "      <td>3.02</td>\n",
       "      <td>0.83</td>\n",
       "      <td>10.9</td>\n",
       "    </tr>\n",
       "    <tr>\n",
       "      <th>1335</th>\n",
       "      <td>6.6</td>\n",
       "      <td>0.580</td>\n",
       "      <td>0.02</td>\n",
       "      <td>2.4</td>\n",
       "      <td>0.069</td>\n",
       "      <td>19.0</td>\n",
       "      <td>40.0</td>\n",
       "      <td>0.99387</td>\n",
       "      <td>3.38</td>\n",
       "      <td>0.66</td>\n",
       "      <td>12.6</td>\n",
       "    </tr>\n",
       "  </tbody>\n",
       "</table>\n",
       "</div>"
      ],
      "text/plain": [
       "      fixed acidity  volatile acidity  citric acid  residual sugar  chlorides  \\\n",
       "638             7.7             0.915         0.12             2.2      0.143   \n",
       "630             8.7             0.540         0.26             2.5      0.097   \n",
       "764             9.1             0.680         0.11             2.8      0.093   \n",
       "1068           11.1             0.310         0.53             2.2      0.060   \n",
       "1335            6.6             0.580         0.02             2.4      0.069   \n",
       "\n",
       "      free sulfur dioxide  total sulfur dioxide  density    pH  sulphates  \\\n",
       "638                   7.0                  23.0  0.99640  3.35       0.65   \n",
       "630                   7.0                  31.0  0.99760  3.27       0.60   \n",
       "764                  11.0                  44.0  0.99888  3.31       0.55   \n",
       "1068                  3.0                  10.0  0.99572  3.02       0.83   \n",
       "1335                 19.0                  40.0  0.99387  3.38       0.66   \n",
       "\n",
       "      alcohol  \n",
       "638      10.2  \n",
       "630       9.3  \n",
       "764       9.5  \n",
       "1068     10.9  \n",
       "1335     12.6  "
      ]
     },
     "execution_count": 129,
     "metadata": {},
     "output_type": "execute_result"
    }
   ],
   "source": [
    "X_train.head(5)"
   ]
  },
  {
   "cell_type": "code",
   "execution_count": 130,
   "metadata": {
    "collapsed": false,
    "scrolled": false
   },
   "outputs": [
    {
     "data": {
      "text/plain": [
       "638     7\n",
       "630     6\n",
       "764     6\n",
       "1068    7\n",
       "1335    6\n",
       "Name: quality, dtype: int64"
      ]
     },
     "execution_count": 130,
     "metadata": {},
     "output_type": "execute_result"
    }
   ],
   "source": [
    "y_train.head(5)"
   ]
  },
  {
   "cell_type": "markdown",
   "metadata": {},
   "source": [
    "<h2>Let's normalise and standardise the data</h2>"
   ]
  },
  {
   "cell_type": "code",
   "execution_count": 131,
   "metadata": {
    "collapsed": false
   },
   "outputs": [
    {
     "name": "stdout",
     "output_type": "stream",
     "text": [
      "[[ -3.52906720e-01   2.14953307e+00  -7.76397069e-01 ...,   2.58867609e-01\n",
      "   -5.01692129e-02  -2.11814186e-01]\n",
      " [  2.20331399e-01   6.73757247e-02  -5.87177588e-02 ...,  -2.64184006e-01\n",
      "   -3.37653189e-01  -1.05728368e+00]\n",
      " [  4.49626646e-01   8.44714466e-01  -8.27659876e-01 ...,  -2.65819820e-03\n",
      "   -6.25137164e-01  -8.69401568e-01]\n",
      " ..., \n",
      " [  9.08217141e-01  -1.54721059e-01  -1.61243374e-01 ...,   1.93486157e-01\n",
      "   -7.97627550e-01  -3.99696295e-01]\n",
      " [ -1.80935284e-01  -1.93149533e+00   5.05173127e-01 ...,  -2.74867918e+00\n",
      "   -1.25760191e+00   2.13671218e+00]\n",
      " [ -8.11497214e-01  -9.32059800e-01  -1.09980567e-01 ...,   6.51156321e-01\n",
      "   -3.37653189e-01  -3.05755241e-01]]\n"
     ]
    }
   ],
   "source": [
    "X_train_scaled = preprocessing.scale(X_train)\n",
    "X_train_normalised = preprocessing.normalize(X_train)\n",
    "\n",
    "print(X_train_scaled)"
   ]
  },
  {
   "cell_type": "markdown",
   "metadata": {},
   "source": [
    "<h2>Linear regression</h2>"
   ]
  },
  {
   "cell_type": "code",
   "execution_count": 132,
   "metadata": {
    "collapsed": false
   },
   "outputs": [
    {
     "name": "stdout",
     "output_type": "stream",
     "text": [
      "[  4.48232017e-02  -1.29059343e+00  -3.03586705e-01   1.37934741e-02\n",
      "  -1.88509077e+00   4.54485291e-03  -3.11743378e-03  -2.32351798e+01\n",
      "  -3.35312393e-01   8.94174371e-01   2.67072758e-01]\n",
      "27.1210374543\n"
     ]
    }
   ],
   "source": [
    "lr_model = linear_model.LinearRegression()\n",
    "lr_model.fit(X_train, y_train)\n",
    "print(lr_model.coef_)\n",
    "print(lr_model.intercept_)"
   ]
  },
  {
   "cell_type": "code",
   "execution_count": 146,
   "metadata": {
    "collapsed": false
   },
   "outputs": [
    {
     "name": "stdout",
     "output_type": "stream",
     "text": [
      "[ 5.10887301  6.0000129   4.66316725  5.17907698  6.03614408  5.02247308\n",
      "  5.8773368   5.59036782  5.24406257  6.00739204  5.74055515  6.4103665\n",
      "  6.68622313  6.12882168  5.30915267  4.86457761  6.2893808   5.94887116\n",
      "  5.45513672  5.83335533  4.80368935  5.28298919  5.84019356  6.19246416\n",
      "  5.25544838  5.99580442  4.97065227  5.48375576  5.07057172  5.55696563\n",
      "  5.77392776  5.7086194   6.46613602  5.53083957  5.19586733  6.13371084\n",
      "  5.01820222  5.10023522  6.09391691  5.27065309  6.10020332  6.15361112\n",
      "  5.33189344  5.99180545  5.31834922  6.24149913  5.05146924  5.714612\n",
      "  5.50702952  5.03927739  6.23785216  6.21781432  6.41389777  6.20175227\n",
      "  5.21650989  5.22055359  5.56180908  5.46483144  5.03211016  6.61042947\n",
      "  5.73276655  5.79924452  4.42949622  5.19081376  6.42389451  5.78814121\n",
      "  5.14389067  5.9081007   6.19585999  5.42802325  6.39664773  6.12521883\n",
      "  5.10688049  5.84537297  5.73727736  5.75436239  5.58209183  5.1840734\n",
      "  5.21425986  5.17907698  6.10482604  6.13176247  5.32668404  5.12725125\n",
      "  5.15691804  6.1338029   5.73264493  5.78990965  5.21409019  5.33333443\n",
      "  4.59128128  6.10608036  5.4190766   6.11373039  5.59157838  5.33126453\n",
      "  4.90563737  5.65428873  5.20023813  5.04923707  5.62376787  4.88060678\n",
      "  4.61655904  4.99023931  5.19059398  5.10292126  5.77799114  4.96066192\n",
      "  6.4985147   5.65311618  5.30229112  5.65229484  6.58563553  5.38310584\n",
      "  5.72758109  5.30740332  5.73229381  5.80531389  5.39684955  6.59891893\n",
      "  5.41849623  5.35136313  4.84918775  5.61492517  5.58868995  6.15183769\n",
      "  6.45800379  6.3782985   5.23676538  5.21908833  5.20602507  5.06340697\n",
      "  5.29058244  5.56643944  6.07990788  5.54251334  6.23989387  5.73766215\n",
      "  4.67667116  5.88131601  6.23658097  5.68251592  6.36153016  5.14342066\n",
      "  5.46497107  5.53475961  6.5715396   5.26609136  6.49475141  5.64328503\n",
      "  5.15120856  5.9563346   5.89476751  5.98131941  5.71041542  5.42275479\n",
      "  6.56160836  5.68556129  4.91987281  5.85685464  5.32301893  4.9417053\n",
      "  6.17957272  5.28490269  6.81596807  5.93408349  6.22976268  5.4689158\n",
      "  5.77218225  5.50698771  5.65667418  5.24158113  5.89161587  5.69613894\n",
      "  5.74066635  6.29736048  5.23101303  5.46328562  5.58209183  5.71728832\n",
      "  5.34129958  5.18610335  4.89591851  5.83168899  5.10607292  5.62455445\n",
      "  5.29846525  5.2463714   5.72600515  5.80782423  5.02535917  5.62892134\n",
      "  5.07826871  5.57463593  5.74055515  5.19060284  6.27334269  5.41289943\n",
      "  5.34962234  5.78359477  5.80323265  5.49391041  5.83071539  6.94366519\n",
      "  5.36018803  5.67264839  5.52390914  5.50335041  5.15179917  4.72148439\n",
      "  5.72174958  5.33595297  5.78410976  5.39480942  5.66734348  5.11194346\n",
      "  5.28024422  5.83061906  4.88063945  6.73747747  5.1837216   6.54448429\n",
      "  5.75327429  5.20125284  4.88046946  4.9598382   5.35882847  4.98467479\n",
      "  5.26634406  5.40871547  6.49401487  5.29088075  6.0758528   5.92678094\n",
      "  5.75802221  5.72249151  4.98330106  5.62291225  5.55799916  5.34833408\n",
      "  6.39090179  5.87435096  6.02864123  6.7747514   5.16138918  4.86613052\n",
      "  5.31153317  4.92045085  5.21087662  5.28692429  5.4644297   5.20631941\n",
      "  6.94366519  5.0407446   6.38618486  5.57461181  5.92512261  5.30608605\n",
      "  6.63101023  4.99870227  5.85106703  6.33758962  5.44187884  5.62892134\n",
      "  6.08562878  6.0887406   5.35266859  5.69426528  4.92346792  6.59891893\n",
      "  5.51692335  4.84585439  6.05567681  5.00921521  5.65311618  5.92296638\n",
      "  5.59409231  4.99388098  6.49401487  5.60304182  6.44502639  5.43827037\n",
      "  5.53370095  6.006964    5.5191061   5.14827165  5.90070645  4.98058451\n",
      "  5.23156408  6.52223637  5.05621911  5.44653245  4.93441899  5.47409006\n",
      "  5.88421933  5.53867184  5.60469595  5.28449819  6.2213014   5.71996494\n",
      "  6.03679806  5.8213954   6.77018937  6.35999251  5.02092628  6.2389511\n",
      "  5.15683411  5.47825178  5.80857843  5.45824596  6.61491484  5.86115263\n",
      "  5.31189782  6.04486878  5.85293132  5.68202002  6.07116076  5.79750795\n",
      "  5.18198833  5.33571236]\n"
     ]
    }
   ],
   "source": [
    "y_pred = lr_model.predict(X_test)\n",
    "print(y_pred)"
   ]
  },
  {
   "cell_type": "code",
   "execution_count": 148,
   "metadata": {
    "collapsed": false
   },
   "outputs": [
    {
     "name": "stdout",
     "output_type": "stream",
     "text": [
      "Accuracy:  0.475\n",
      "Mean square error:  0.432544396636\n"
     ]
    }
   ],
   "source": [
    "y_pred_int = [int(i) for i in y_pred]\n",
    "\n",
    "print('Accuracy: ', np.mean(y_pred_int == y_test))\n",
    "print('Mean square error: ', mean_squared_error(y_pred, y_test))"
   ]
  },
  {
   "cell_type": "code",
   "execution_count": 149,
   "metadata": {
    "collapsed": false
   },
   "outputs": [
    {
     "data": {
      "image/png": "[encoded data removed]",
      "text/plain": [
       "<matplotlib.figure.Figure at 0x11e1b2588>"
      ]
     },
     "metadata": {},
     "output_type": "display_data"
    }
   ],
   "source": [
    "import matplotlib.pylab as plt\n",
    "plt.scatter(y_test, y_pred)\n",
    "plt.xlabel('True Quality')\n",
    "plt.ylabel('Predicted Quality')\n",
    "plt.title('Predicted Quality Against True Quality ')\n",
    "plt.show()"
   ]
  },
  {
   "cell_type": "markdown",
   "metadata": {},
   "source": [
    "## Decision tree classifier"
   ]
  },
  {
   "cell_type": "code",
   "execution_count": 150,
   "metadata": {
    "collapsed": false
   },
   "outputs": [
    {
     "data": {
      "text/plain": [
       "DecisionTreeClassifier(class_weight=None, criterion='gini', max_depth=None,\n",
       "            max_features=None, max_leaf_nodes=None,\n",
       "            min_impurity_split=1e-07, min_samples_leaf=1,\n",
       "            min_samples_split=2, min_weight_fraction_leaf=0.0,\n",
       "            presort=False, random_state=None, splitter='best')"
      ]
     },
     "execution_count": 150,
     "metadata": {},
     "output_type": "execute_result"
    }
   ],
   "source": [
    "dtc_model = tree.DecisionTreeClassifier()\n",
    "dtc_model.fit(X_train, y_train)"
   ]
  },
  {
   "cell_type": "code",
   "execution_count": 151,
   "metadata": {
    "collapsed": false
   },
   "outputs": [
    {
     "name": "stdout",
     "output_type": "stream",
     "text": [
      "\n",
      "The confidence score:\n",
      "\n",
      "0.653125\n"
     ]
    }
   ],
   "source": [
    "confidence = dtc_model.score(X_test, y_test)\n",
    "print(\"\\nThe confidence score:\\n\")\n",
    "print(confidence)"
   ]
  },
  {
   "cell_type": "code",
   "execution_count": 152,
   "metadata": {
    "collapsed": true
   },
   "outputs": [],
   "source": [
    "y_pred = dtc_model.predict(X_test)"
   ]
  },
  {
   "cell_type": "code",
   "execution_count": 153,
   "metadata": {
    "collapsed": false
   },
   "outputs": [
    {
     "name": "stdout",
     "output_type": "stream",
     "text": [
      "[5 6 5 6 6 5 6 6 5 6 5 7 6 5 5 5 6 6 5 5 5 6 6 6 6 6 6 5 5 6 5 5 6 6 5 7 5\n",
      " 4 8 5 6 6 5 6 5 6 5 6 4 5 7 6 6 5 5 5 5 5 6 6 5 6 5 5 7 6 5 5 5 6 8 6 6 6\n",
      " 6 6 6 6 7 6 6 7 6 3 5 7 6 6 5 6 5 7 6 7 5 5 5 6 5 5 6 5 6 5 5 6 5 6 7 6 5\n",
      " 5 6 5 6 6 6 7 5 7 5 6 6 6 5 6 7 7 6 5 6 6 5 6 7 6 5 6 3 6 6 6 6 5 5 6 6 5\n",
      " 7 6 6 5 5 6 6 6 6 6 6 6 5 5 6 5 6 6 6 5 7 7 6 5 6 5 5 7 5 6 6 6 6 4 4 6 5\n",
      " 6 5 6 5 6 5 5 5 5 5 5 6 6 4 5 6 6 6 6 5 5 5 5 5 5 7 5 6 5 6 5 5 6 5 7 5 6\n",
      " 6 5 5 5 6 5 6 6 7 6 5 6 5 5 5 6 5 5 6 5 7 7 5 5 5 5 5 5 5 5 6 5 7 6 5 5 7\n",
      " 5 5 6 6 5 6 5 6 4 5 7 5 6 5 5 6 6 6 6 7 6 6 5 5 6 6 6 7 5 5 7 5 5 5 6 6 4\n",
      " 5 4 6 6 6 6 7 6 6 6 6 6 6 5 7 5 6 6 5 6 7 5 5 6]\n"
     ]
    }
   ],
   "source": [
    "print(y_pred)"
   ]
  },
  {
   "cell_type": "code",
   "execution_count": 154,
   "metadata": {
    "collapsed": false
   },
   "outputs": [
    {
     "name": "stdout",
     "output_type": "stream",
     "text": [
      "[5 5 4 6 6 5 6 5 6 6 5 8 8 5 5 6 6 6 7 6 5 6 6 6 6 6 6 6 5 5 7 5 6 5 6 7 5\n",
      " 6 6 6 6 6 5 5 5 6 5 6 6 5 6 7 6 7 5 5 5 6 5 6 5 6 5 5 7 5 5 5 6 6 7 6 5 5\n",
      " 6 6 7 6 5 6 6 7 4 5 5 7 6 7 6 5 5 6 5 5 4 5 5 6 5 5 4 5 6 5 5 6 6 5 7 6 5\n",
      " 5 7 5 3 5 6 6 5 7 6 5 6 6 6 6 7 6 6 5 6 6 5 6 6 6 5 6 5 6 6 6 6 5 5 6 6 6\n",
      " 6 6 5 7 5 4 5 5 8 6 6 6 5 5 6 5 6 6 7 5 5 5 6 6 4 5 5 6 6 5 7 6 6 6 5 6 5\n",
      " 5 5 5 5 6 5 7 5 5 5 5 6 6 4 5 6 5 6 6 5 5 6 6 5 5 7 5 6 5 6 5 5 5 5 7 5 6\n",
      " 6 5 5 6 6 5 6 6 6 4 6 6 6 6 5 6 6 5 7 5 6 7 5 6 5 5 6 5 5 5 6 5 7 6 5 5 8\n",
      " 5 5 6 5 7 6 7 6 4 6 7 5 4 5 5 6 6 6 5 6 6 6 5 5 6 6 5 8 5 6 7 5 5 6 6 6 6\n",
      " 5 5 6 6 6 6 7 6 5 7 5 6 7 5 7 5 6 6 5 6 6 6 5 5]\n"
     ]
    }
   ],
   "source": [
    "print(y_test.values)"
   ]
  },
  {
   "cell_type": "markdown",
   "metadata": {},
   "source": [
    "## SVM"
   ]
  },
  {
   "cell_type": "code",
   "execution_count": 155,
   "metadata": {
    "collapsed": false
   },
   "outputs": [
    {
     "data": {
      "text/plain": [
       "LinearSVC(C=1.0, class_weight=None, dual=True, fit_intercept=True,\n",
       "     intercept_scaling=1, loss='squared_hinge', max_iter=1000,\n",
       "     multi_class='ovr', penalty='l2', random_state=None, tol=0.0001,\n",
       "     verbose=0)"
      ]
     },
     "execution_count": 155,
     "metadata": {},
     "output_type": "execute_result"
    }
   ],
   "source": [
    "lsvc_model = svm.LinearSVC()\n",
    "lsvc_model.fit(X_train, y_train)"
   ]
  },
  {
   "cell_type": "code",
   "execution_count": 156,
   "metadata": {
    "collapsed": false
   },
   "outputs": [
    {
     "name": "stdout",
     "output_type": "stream",
     "text": [
      "[5 6 5 5 6 5 6 5 5 6 6 6 6 6 5 5 6 6 6 6 5 5 6 6 5 6 5 5 5 6 5 6 6 6 5 6 5\n",
      " 5 6 5 6 6 5 6 5 6 5 5 6 5 6 6 6 6 5 5 5 5 5 6 6 6 5 5 6 6 5 6 6 5 6 5 5 6\n",
      " 6 5 6 5 5 5 6 6 5 5 5 6 6 6 5 5 5 6 6 6 6 5 5 5 5 5 5 5 5 5 5 5 6 5 6 6 5\n",
      " 5 6 5 6 5 6 6 6 6 5 5 5 5 5 5 6 6 6 5 5 5 5 6 6 6 6 6 5 6 6 6 6 5 5 5 6 5\n",
      " 6 6 5 6 6 5 6 5 6 6 5 6 5 5 6 5 6 6 6 5 6 5 6 5 6 6 5 6 6 5 6 5 5 5 5 6 5\n",
      " 6 5 5 6 6 5 6 5 5 6 5 6 5 5 5 6 6 6 6 5 5 5 5 5 5 6 5 6 5 6 5 5 5 5 6 6 6\n",
      " 5 5 5 5 6 5 5 6 6 5 6 6 6 6 5 6 5 5 6 6 6 6 5 5 5 5 5 5 5 5 6 5 6 6 6 5 6\n",
      " 5 6 6 6 6 6 6 5 6 5 6 6 5 6 5 6 6 6 5 6 6 6 5 5 6 6 5 5 5 5 6 5 5 5 5 6 6\n",
      " 6 6 6 6 6 5 6 6 5 6 5 5 6 6 6 5 5 6 6 5 6 6 6 5]\n"
     ]
    }
   ],
   "source": [
    "y_pred = lsvc_model.predict(X_test)\n",
    "print(y_pred)"
   ]
  },
  {
   "cell_type": "code",
   "execution_count": 157,
   "metadata": {
    "collapsed": false
   },
   "outputs": [
    {
     "name": "stdout",
     "output_type": "stream",
     "text": [
      "Accuracy:  0.575\n",
      "Mean square error:  0.55\n"
     ]
    }
   ],
   "source": [
    "print('Accuracy: ', np.mean(y_pred == y_test))\n",
    "print('Mean square error: ', mean_squared_error(y_pred, y_test))"
   ]
  }
 ],
 "metadata": {
  "kernelspec": {
   "display_name": "Python 3",
   "language": "python",
   "name": "python3"
  },
  "language_info": {
   "codemirror_mode": {
    "name": "ipython",
    "version": 3
   },
   "file_extension": ".py",
   "mimetype": "text/x-python",
   "name": "python",
   "nbconvert_exporter": "python",
   "pygments_lexer": "ipython3",
   "version": "3.4.5"
  }
 },
 "nbformat": 4,
 "nbformat_minor": 2
}
